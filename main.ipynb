{
 "cells": [
  {
   "cell_type": "code",
   "execution_count": 2,
   "id": "8d91df72",
   "metadata": {},
   "outputs": [],
   "source": [
    "import pandas as pd\n",
    "import numpy as np\n",
    "import copy\n",
    "from sklearn.datasets import load_breast_cancer\n",
    "from sklearn import metrics"
   ]
  },
  {
   "cell_type": "code",
   "execution_count": 3,
   "id": "f63d2822",
   "metadata": {},
   "outputs": [
    {
     "name": "stdout",
     "output_type": "stream",
     "text": [
      "     mean radius  mean texture  mean perimeter  mean area  mean smoothness  \\\n",
      "0          17.99         10.38          122.80     1001.0          0.11840   \n",
      "1          20.57         17.77          132.90     1326.0          0.08474   \n",
      "2          19.69         21.25          130.00     1203.0          0.10960   \n",
      "3          11.42         20.38           77.58      386.1          0.14250   \n",
      "4          20.29         14.34          135.10     1297.0          0.10030   \n",
      "..           ...           ...             ...        ...              ...   \n",
      "564        21.56         22.39          142.00     1479.0          0.11100   \n",
      "565        20.13         28.25          131.20     1261.0          0.09780   \n",
      "566        16.60         28.08          108.30      858.1          0.08455   \n",
      "567        20.60         29.33          140.10     1265.0          0.11780   \n",
      "568         7.76         24.54           47.92      181.0          0.05263   \n",
      "\n",
      "     mean compactness  mean concavity  mean concave points  mean symmetry  \\\n",
      "0             0.27760         0.30010              0.14710         0.2419   \n",
      "1             0.07864         0.08690              0.07017         0.1812   \n",
      "2             0.15990         0.19740              0.12790         0.2069   \n",
      "3             0.28390         0.24140              0.10520         0.2597   \n",
      "4             0.13280         0.19800              0.10430         0.1809   \n",
      "..                ...             ...                  ...            ...   \n",
      "564           0.11590         0.24390              0.13890         0.1726   \n",
      "565           0.10340         0.14400              0.09791         0.1752   \n",
      "566           0.10230         0.09251              0.05302         0.1590   \n",
      "567           0.27700         0.35140              0.15200         0.2397   \n",
      "568           0.04362         0.00000              0.00000         0.1587   \n",
      "\n",
      "     mean fractal dimension  ...  worst texture  worst perimeter  worst area  \\\n",
      "0                   0.07871  ...          17.33           184.60      2019.0   \n",
      "1                   0.05667  ...          23.41           158.80      1956.0   \n",
      "2                   0.05999  ...          25.53           152.50      1709.0   \n",
      "3                   0.09744  ...          26.50            98.87       567.7   \n",
      "4                   0.05883  ...          16.67           152.20      1575.0   \n",
      "..                      ...  ...            ...              ...         ...   \n",
      "564                 0.05623  ...          26.40           166.10      2027.0   \n",
      "565                 0.05533  ...          38.25           155.00      1731.0   \n",
      "566                 0.05648  ...          34.12           126.70      1124.0   \n",
      "567                 0.07016  ...          39.42           184.60      1821.0   \n",
      "568                 0.05884  ...          30.37            59.16       268.6   \n",
      "\n",
      "     worst smoothness  worst compactness  worst concavity  \\\n",
      "0             0.16220            0.66560           0.7119   \n",
      "1             0.12380            0.18660           0.2416   \n",
      "2             0.14440            0.42450           0.4504   \n",
      "3             0.20980            0.86630           0.6869   \n",
      "4             0.13740            0.20500           0.4000   \n",
      "..                ...                ...              ...   \n",
      "564           0.14100            0.21130           0.4107   \n",
      "565           0.11660            0.19220           0.3215   \n",
      "566           0.11390            0.30940           0.3403   \n",
      "567           0.16500            0.86810           0.9387   \n",
      "568           0.08996            0.06444           0.0000   \n",
      "\n",
      "     worst concave points  worst symmetry  worst fractal dimension  target  \n",
      "0                  0.2654          0.4601                  0.11890     0.0  \n",
      "1                  0.1860          0.2750                  0.08902     0.0  \n",
      "2                  0.2430          0.3613                  0.08758     0.0  \n",
      "3                  0.2575          0.6638                  0.17300     0.0  \n",
      "4                  0.1625          0.2364                  0.07678     0.0  \n",
      "..                    ...             ...                      ...     ...  \n",
      "564                0.2216          0.2060                  0.07115     0.0  \n",
      "565                0.1628          0.2572                  0.06637     0.0  \n",
      "566                0.1418          0.2218                  0.07820     0.0  \n",
      "567                0.2650          0.4087                  0.12400     0.0  \n",
      "568                0.0000          0.2871                  0.07039     1.0  \n",
      "\n",
      "[569 rows x 31 columns]\n",
      "    day   outlook  temp humidity    wind play\n",
      "0    D1     Sunny   Hot     High    Weak   No\n",
      "1    D2     Sunny   Hot     High  Strong   No\n",
      "2    D3  Overcast   Hot     High    Weak  Yes\n",
      "3    D4      Rain  Mild     High    Weak  Yes\n",
      "4    D5      Rain  Cool   Normal    Weak  Yes\n",
      "5    D6      Rain  Cool   Normal  Strong   No\n",
      "6    D7  Overcast  Cool   Normal  Strong  Yes\n",
      "7    D8     Sunny  Mild     High    Weak   No\n",
      "8    D9     Sunny  Cool   Normal    Weak  Yes\n",
      "9   D10      Rain  Mild   Normal    Weak  Yes\n",
      "10  D11     Sunny  Mild   Normal  Strong  Yes\n",
      "11  D12  Overcast  Mild     High  Strong  Yes\n",
      "12  D13  Overcast   Hot   Normal    Weak  Yes\n",
      "13  D14      Rain  Mild     High  Strong   No\n"
     ]
    }
   ],
   "source": [
    "# TASK 1 Membaca ( Load ) Dataset\n",
    "cancer = load_breast_cancer() # Load file dari library\n",
    "breast = pd.DataFrame(np.c_[cancer['data'], cancer['target']],\n",
    "                  columns= np.append(cancer['feature_names'], ['target'])) # Converting\n",
    "print(breast)\n",
    "\n",
    "tenis = pd.read_csv(\"Data/play_tennis.csv\") # Read csv classic\n",
    "print(tenis)\n"
   ]
  },
  {
   "cell_type": "code",
   "execution_count": 5,
   "id": "87de2441",
   "metadata": {},
   "outputs": [],
   "source": [
    "# SPLITTING FILES \n",
    "from sklearn.model_selection import train_test_split # For splitting purpose\n",
    "\n",
    "X_train_breast, X_test_breast, y_train_breast, y_test_breast = train_test_split(\n",
    "    cancer.data, cancer.target, test_size=0.2,random_state=2)\n",
    "train_tenis, test_tenis= train_test_split(tenis, test_size=0.2, random_state=3)"
   ]
  },
  {
   "cell_type": "code",
   "execution_count": 4,
   "id": "48bfce7d",
   "metadata": {},
   "outputs": [
    {
     "data": {
      "text/plain": [
       "0.9122807017543859"
      ]
     },
     "execution_count": 4,
     "metadata": {},
     "output_type": "execute_result"
    }
   ],
   "source": [
    "# Algoritma 1 - Decision Tree Classifier\n",
    "from sklearn.tree import DecisionTreeClassifier\n",
    "from sklearn.model_selection import train_test_split\n",
    "from sklearn.metrics import accuracy_score, f1_score\n",
    "\n",
    "dt = DecisionTreeClassifier(criterion=\"gini\",random_state=1)\n",
    "dt.fit(X_train_breast,y_train_breast)\n",
    "y_pred_breast = dt.predict(X_test_breast)\n",
    "accuracy_score(y_test_breast,y_pred_breast)"
   ]
  },
  {
   "cell_type": "code",
   "execution_count": 5,
   "id": "432bad04",
   "metadata": {},
   "outputs": [
    {
     "ename": "ExecutableNotFound",
     "evalue": "failed to execute WindowsPath('dot'), make sure the Graphviz executables are on your systems' PATH",
     "output_type": "error",
     "traceback": [
      "\u001b[1;31m---------------------------------------------------------------------------\u001b[0m",
      "\u001b[1;31mFileNotFoundError\u001b[0m                         Traceback (most recent call last)",
      "\u001b[1;32m~\\AppData\\Local\\Programs\\Python\\Python38\\lib\\site-packages\\graphviz\\backend\\execute.py\u001b[0m in \u001b[0;36mrun_check\u001b[1;34m(cmd, input_lines, encoding, capture_output, quiet, **kwargs)\u001b[0m\n\u001b[0;32m     84\u001b[0m         \u001b[1;32melse\u001b[0m\u001b[1;33m:\u001b[0m\u001b[1;33m\u001b[0m\u001b[1;33m\u001b[0m\u001b[0m\n\u001b[1;32m---> 85\u001b[1;33m             \u001b[0mproc\u001b[0m \u001b[1;33m=\u001b[0m \u001b[0msubprocess\u001b[0m\u001b[1;33m.\u001b[0m\u001b[0mrun\u001b[0m\u001b[1;33m(\u001b[0m\u001b[0mcmd\u001b[0m\u001b[1;33m,\u001b[0m \u001b[1;33m**\u001b[0m\u001b[0mkwargs\u001b[0m\u001b[1;33m)\u001b[0m\u001b[1;33m\u001b[0m\u001b[1;33m\u001b[0m\u001b[0m\n\u001b[0m\u001b[0;32m     86\u001b[0m     \u001b[1;32mexcept\u001b[0m \u001b[0mOSError\u001b[0m \u001b[1;32mas\u001b[0m \u001b[0me\u001b[0m\u001b[1;33m:\u001b[0m\u001b[1;33m\u001b[0m\u001b[1;33m\u001b[0m\u001b[0m\n",
      "\u001b[1;32m~\\AppData\\Local\\Programs\\Python\\Python38\\lib\\subprocess.py\u001b[0m in \u001b[0;36mrun\u001b[1;34m(input, capture_output, timeout, check, *popenargs, **kwargs)\u001b[0m\n\u001b[0;32m    488\u001b[0m \u001b[1;33m\u001b[0m\u001b[0m\n\u001b[1;32m--> 489\u001b[1;33m     \u001b[1;32mwith\u001b[0m \u001b[0mPopen\u001b[0m\u001b[1;33m(\u001b[0m\u001b[1;33m*\u001b[0m\u001b[0mpopenargs\u001b[0m\u001b[1;33m,\u001b[0m \u001b[1;33m**\u001b[0m\u001b[0mkwargs\u001b[0m\u001b[1;33m)\u001b[0m \u001b[1;32mas\u001b[0m \u001b[0mprocess\u001b[0m\u001b[1;33m:\u001b[0m\u001b[1;33m\u001b[0m\u001b[1;33m\u001b[0m\u001b[0m\n\u001b[0m\u001b[0;32m    490\u001b[0m         \u001b[1;32mtry\u001b[0m\u001b[1;33m:\u001b[0m\u001b[1;33m\u001b[0m\u001b[1;33m\u001b[0m\u001b[0m\n",
      "\u001b[1;32m~\\AppData\\Local\\Programs\\Python\\Python38\\lib\\subprocess.py\u001b[0m in \u001b[0;36m__init__\u001b[1;34m(self, args, bufsize, executable, stdin, stdout, stderr, preexec_fn, close_fds, shell, cwd, env, universal_newlines, startupinfo, creationflags, restore_signals, start_new_session, pass_fds, encoding, errors, text)\u001b[0m\n\u001b[0;32m    853\u001b[0m \u001b[1;33m\u001b[0m\u001b[0m\n\u001b[1;32m--> 854\u001b[1;33m             self._execute_child(args, executable, preexec_fn, close_fds,\n\u001b[0m\u001b[0;32m    855\u001b[0m                                 \u001b[0mpass_fds\u001b[0m\u001b[1;33m,\u001b[0m \u001b[0mcwd\u001b[0m\u001b[1;33m,\u001b[0m \u001b[0menv\u001b[0m\u001b[1;33m,\u001b[0m\u001b[1;33m\u001b[0m\u001b[1;33m\u001b[0m\u001b[0m\n",
      "\u001b[1;32m~\\AppData\\Local\\Programs\\Python\\Python38\\lib\\subprocess.py\u001b[0m in \u001b[0;36m_execute_child\u001b[1;34m(self, args, executable, preexec_fn, close_fds, pass_fds, cwd, env, startupinfo, creationflags, shell, p2cread, p2cwrite, c2pread, c2pwrite, errread, errwrite, unused_restore_signals, unused_start_new_session)\u001b[0m\n\u001b[0;32m   1306\u001b[0m             \u001b[1;32mtry\u001b[0m\u001b[1;33m:\u001b[0m\u001b[1;33m\u001b[0m\u001b[1;33m\u001b[0m\u001b[0m\n\u001b[1;32m-> 1307\u001b[1;33m                 hp, ht, pid, tid = _winapi.CreateProcess(executable, args,\n\u001b[0m\u001b[0;32m   1308\u001b[0m                                          \u001b[1;31m# no special security\u001b[0m\u001b[1;33m\u001b[0m\u001b[1;33m\u001b[0m\u001b[1;33m\u001b[0m\u001b[0m\n",
      "\u001b[1;31mFileNotFoundError\u001b[0m: [WinError 2] The system cannot find the file specified",
      "\nThe above exception was the direct cause of the following exception:\n",
      "\u001b[1;31mExecutableNotFound\u001b[0m                        Traceback (most recent call last)",
      "\u001b[1;32m<ipython-input-5-1c9e0344730b>\u001b[0m in \u001b[0;36m<module>\u001b[1;34m\u001b[0m\n\u001b[0;32m      5\u001b[0m \u001b[0mdot_data\u001b[0m \u001b[1;33m=\u001b[0m \u001b[0mtree\u001b[0m\u001b[1;33m.\u001b[0m\u001b[0mexport_graphviz\u001b[0m\u001b[1;33m(\u001b[0m\u001b[0mdt\u001b[0m\u001b[1;33m,\u001b[0m \u001b[0mout_file\u001b[0m\u001b[1;33m=\u001b[0m\u001b[1;32mNone\u001b[0m\u001b[1;33m)\u001b[0m\u001b[1;33m\u001b[0m\u001b[1;33m\u001b[0m\u001b[0m\n\u001b[0;32m      6\u001b[0m \u001b[0mgraph\u001b[0m \u001b[1;33m=\u001b[0m \u001b[0mgraphviz\u001b[0m\u001b[1;33m.\u001b[0m\u001b[0mSource\u001b[0m\u001b[1;33m(\u001b[0m\u001b[0mdot_data\u001b[0m\u001b[1;33m)\u001b[0m\u001b[1;33m\u001b[0m\u001b[1;33m\u001b[0m\u001b[0m\n\u001b[1;32m----> 7\u001b[1;33m \u001b[0mgraph\u001b[0m\u001b[1;33m.\u001b[0m\u001b[0mrender\u001b[0m\u001b[1;33m(\u001b[0m\u001b[1;34m\"breast\"\u001b[0m\u001b[1;33m)\u001b[0m\u001b[1;33m\u001b[0m\u001b[1;33m\u001b[0m\u001b[0m\n\u001b[0m",
      "\u001b[1;32m~\\AppData\\Local\\Programs\\Python\\Python38\\lib\\site-packages\\graphviz\\_tools.py\u001b[0m in \u001b[0;36mwrapper\u001b[1;34m(*args, **kwargs)\u001b[0m\n\u001b[0;32m    170\u001b[0m                               category=category)\n\u001b[0;32m    171\u001b[0m \u001b[1;33m\u001b[0m\u001b[0m\n\u001b[1;32m--> 172\u001b[1;33m             \u001b[1;32mreturn\u001b[0m \u001b[0mfunc\u001b[0m\u001b[1;33m(\u001b[0m\u001b[1;33m*\u001b[0m\u001b[0margs\u001b[0m\u001b[1;33m,\u001b[0m \u001b[1;33m**\u001b[0m\u001b[0mkwargs\u001b[0m\u001b[1;33m)\u001b[0m\u001b[1;33m\u001b[0m\u001b[1;33m\u001b[0m\u001b[0m\n\u001b[0m\u001b[0;32m    173\u001b[0m \u001b[1;33m\u001b[0m\u001b[0m\n\u001b[0;32m    174\u001b[0m         \u001b[1;32mreturn\u001b[0m \u001b[0mwrapper\u001b[0m\u001b[1;33m\u001b[0m\u001b[1;33m\u001b[0m\u001b[0m\n",
      "\u001b[1;32m~\\AppData\\Local\\Programs\\Python\\Python38\\lib\\site-packages\\graphviz\\rendering.py\u001b[0m in \u001b[0;36mrender\u001b[1;34m(self, filename, directory, view, cleanup, format, renderer, formatter, quiet, quiet_view, outfile, engine, raise_if_result_exists, overwrite_source)\u001b[0m\n\u001b[0;32m    117\u001b[0m         \u001b[0margs\u001b[0m\u001b[1;33m.\u001b[0m\u001b[0mappend\u001b[0m\u001b[1;33m(\u001b[0m\u001b[0mfilepath\u001b[0m\u001b[1;33m)\u001b[0m\u001b[1;33m\u001b[0m\u001b[1;33m\u001b[0m\u001b[0m\n\u001b[0;32m    118\u001b[0m \u001b[1;33m\u001b[0m\u001b[0m\n\u001b[1;32m--> 119\u001b[1;33m         \u001b[0mrendered\u001b[0m \u001b[1;33m=\u001b[0m \u001b[0mself\u001b[0m\u001b[1;33m.\u001b[0m\u001b[0m_render\u001b[0m\u001b[1;33m(\u001b[0m\u001b[1;33m*\u001b[0m\u001b[0margs\u001b[0m\u001b[1;33m,\u001b[0m \u001b[1;33m**\u001b[0m\u001b[0mkwargs\u001b[0m\u001b[1;33m)\u001b[0m\u001b[1;33m\u001b[0m\u001b[1;33m\u001b[0m\u001b[0m\n\u001b[0m\u001b[0;32m    120\u001b[0m \u001b[1;33m\u001b[0m\u001b[0m\n\u001b[0;32m    121\u001b[0m         \u001b[1;32mif\u001b[0m \u001b[0mcleanup\u001b[0m\u001b[1;33m:\u001b[0m\u001b[1;33m\u001b[0m\u001b[1;33m\u001b[0m\u001b[0m\n",
      "\u001b[1;32m~\\AppData\\Local\\Programs\\Python\\Python38\\lib\\site-packages\\graphviz\\_tools.py\u001b[0m in \u001b[0;36mwrapper\u001b[1;34m(*args, **kwargs)\u001b[0m\n\u001b[0;32m    170\u001b[0m                               category=category)\n\u001b[0;32m    171\u001b[0m \u001b[1;33m\u001b[0m\u001b[0m\n\u001b[1;32m--> 172\u001b[1;33m             \u001b[1;32mreturn\u001b[0m \u001b[0mfunc\u001b[0m\u001b[1;33m(\u001b[0m\u001b[1;33m*\u001b[0m\u001b[0margs\u001b[0m\u001b[1;33m,\u001b[0m \u001b[1;33m**\u001b[0m\u001b[0mkwargs\u001b[0m\u001b[1;33m)\u001b[0m\u001b[1;33m\u001b[0m\u001b[1;33m\u001b[0m\u001b[0m\n\u001b[0m\u001b[0;32m    173\u001b[0m \u001b[1;33m\u001b[0m\u001b[0m\n\u001b[0;32m    174\u001b[0m         \u001b[1;32mreturn\u001b[0m \u001b[0mwrapper\u001b[0m\u001b[1;33m\u001b[0m\u001b[1;33m\u001b[0m\u001b[0m\n",
      "\u001b[1;32m~\\AppData\\Local\\Programs\\Python\\Python38\\lib\\site-packages\\graphviz\\backend\\rendering.py\u001b[0m in \u001b[0;36mrender\u001b[1;34m(engine, format, filepath, renderer, formatter, quiet, outfile, raise_if_result_exists, overwrite_filepath)\u001b[0m\n\u001b[0;32m    315\u001b[0m     \u001b[0mcmd\u001b[0m \u001b[1;33m+=\u001b[0m \u001b[0margs\u001b[0m\u001b[1;33m\u001b[0m\u001b[1;33m\u001b[0m\u001b[0m\n\u001b[0;32m    316\u001b[0m \u001b[1;33m\u001b[0m\u001b[0m\n\u001b[1;32m--> 317\u001b[1;33m     execute.run_check(cmd,\n\u001b[0m\u001b[0;32m    318\u001b[0m                       \u001b[0mcwd\u001b[0m\u001b[1;33m=\u001b[0m\u001b[0mfilepath\u001b[0m\u001b[1;33m.\u001b[0m\u001b[0mparent\u001b[0m \u001b[1;32mif\u001b[0m \u001b[0mfilepath\u001b[0m\u001b[1;33m.\u001b[0m\u001b[0mparent\u001b[0m\u001b[1;33m.\u001b[0m\u001b[0mparts\u001b[0m \u001b[1;32melse\u001b[0m \u001b[1;32mNone\u001b[0m\u001b[1;33m,\u001b[0m\u001b[1;33m\u001b[0m\u001b[1;33m\u001b[0m\u001b[0m\n\u001b[0;32m    319\u001b[0m                       \u001b[0mquiet\u001b[0m\u001b[1;33m=\u001b[0m\u001b[0mquiet\u001b[0m\u001b[1;33m,\u001b[0m\u001b[1;33m\u001b[0m\u001b[1;33m\u001b[0m\u001b[0m\n",
      "\u001b[1;32m~\\AppData\\Local\\Programs\\Python\\Python38\\lib\\site-packages\\graphviz\\backend\\execute.py\u001b[0m in \u001b[0;36mrun_check\u001b[1;34m(cmd, input_lines, encoding, capture_output, quiet, **kwargs)\u001b[0m\n\u001b[0;32m     86\u001b[0m     \u001b[1;32mexcept\u001b[0m \u001b[0mOSError\u001b[0m \u001b[1;32mas\u001b[0m \u001b[0me\u001b[0m\u001b[1;33m:\u001b[0m\u001b[1;33m\u001b[0m\u001b[1;33m\u001b[0m\u001b[0m\n\u001b[0;32m     87\u001b[0m         \u001b[1;32mif\u001b[0m \u001b[0me\u001b[0m\u001b[1;33m.\u001b[0m\u001b[0merrno\u001b[0m \u001b[1;33m==\u001b[0m \u001b[0merrno\u001b[0m\u001b[1;33m.\u001b[0m\u001b[0mENOENT\u001b[0m\u001b[1;33m:\u001b[0m\u001b[1;33m\u001b[0m\u001b[1;33m\u001b[0m\u001b[0m\n\u001b[1;32m---> 88\u001b[1;33m             \u001b[1;32mraise\u001b[0m \u001b[0mExecutableNotFound\u001b[0m\u001b[1;33m(\u001b[0m\u001b[0mcmd\u001b[0m\u001b[1;33m)\u001b[0m \u001b[1;32mfrom\u001b[0m \u001b[0me\u001b[0m\u001b[1;33m\u001b[0m\u001b[1;33m\u001b[0m\u001b[0m\n\u001b[0m\u001b[0;32m     89\u001b[0m         \u001b[1;32mraise\u001b[0m\u001b[1;33m\u001b[0m\u001b[1;33m\u001b[0m\u001b[0m\n\u001b[0;32m     90\u001b[0m \u001b[1;33m\u001b[0m\u001b[0m\n",
      "\u001b[1;31mExecutableNotFound\u001b[0m: failed to execute WindowsPath('dot'), make sure the Graphviz executables are on your systems' PATH"
     ]
    },
    {
     "data": {
      "image/png": "[encoded data removed]",
      "text/plain": [
       "<Figure size 432x288 with 1 Axes>"
      ]
     },
     "metadata": {
      "needs_background": "light"
     },
     "output_type": "display_data"
    }
   ],
   "source": [
    "# Untuk export data ke pdf\n",
    "from sklearn import tree\n",
    "import graphviz\n",
    "tree.plot_tree(dt)\n",
    "dot_data = tree.export_graphviz(dt, out_file=None)\n",
    "graph = graphviz.Source(dot_data)\n",
    "graph.render(\"breast\")  "
   ]
  },
  {
   "cell_type": "code",
   "execution_count": null,
   "id": "97e0d3a8",
   "metadata": {},
   "outputs": [],
   "source": [
    "# Algoritma 1 untuk data tenis\n",
    "from sklearn.preprocessing import LabelEncoder\n",
    "train_tenis = train_tenis.copy()\n",
    "test_tenis = test_tenis.copy()\n",
    "\n",
    "le = LabelEncoder()\n",
    "for col in ['outlook', 'temp', 'humidity', 'wind', 'play']:\n",
    "    train_tenis[col + '_num'] = le.fit_transform(train_tenis[col])\n",
    "    test_tenis[col + '_num'] = le.fit_transform(test_tenis[col])\n",
    "    \n",
    "X_train_tenis = train_tenis[['outlook_num', 'temp_num', 'humidity_num', 'wind_num']]\n",
    "X_test_tenis = test_tenis[['outlook_num', 'temp_num', 'humidity_num', 'wind_num']]\n",
    "y_train_tenis = train_tenis['play_num']\n",
    "y_test_tenis = test_tenis['play_num']\n",
    "\n",
    "dt2 = DecisionTreeClassifier(criterion=\"gini\",random_state=1)\n",
    "dt2.fit(X_train_tenis,y_train_tenis)\n",
    "y_pred_tenis = dt2.predict(X_test_tenis)\n",
    "accuracy_score(y_test_tenis,y_pred_tenis)"
   ]
  },
  {
   "cell_type": "code",
   "execution_count": null,
   "id": "15f4a4a5",
   "metadata": {},
   "outputs": [],
   "source": [
    "# Untuk export data ke pdf\n",
    "from sklearn import tree\n",
    "import graphviz\n",
    "tree.plot_tree(dt2)\n",
    "dot_data2 = tree.export_graphviz(dt2, out_file=None)\n",
    "graph2 = graphviz.Source(dot_data2)\n",
    "graph2.render(\"tenis\") "
   ]
  },
  {
   "cell_type": "code",
   "execution_count": null,
   "id": "c95166da",
   "metadata": {},
   "outputs": [],
   "source": [
    "import sys\n",
    "!{sys.executable} -m pip install decision-tree-id3\n",
    "!{sys.executable} -m pip install six"
   ]
  },
  {
   "cell_type": "code",
   "execution_count": null,
   "id": "178e9dfe",
   "metadata": {},
   "outputs": [],
   "source": [
    "# Algoritma 2 - Id3Estimator\n",
    "import six\n",
    "import sys\n",
    "sys.modules['sklearn.externals.six'] = six\n",
    "from id3 import Id3Estimator\n",
    "\n",
    "estimator = Id3Estimator(prune=True, gain_ratio=True)\n",
    "estimator = estimator.fit(X_train_breast, y_train_breast)\n",
    "y_pred_breast = estimator.predict(X_test_breast)\n",
    "print(\"Accuracy Score : \" + str(accuracy_score(y_test_breast,y_pred_breast)))\n",
    "print(\"F1 Score : \" +str(f1_score(y_test_breast,y_pred_breast)))"
   ]
  },
  {
   "cell_type": "code",
   "execution_count": null,
   "id": "6f22e52d",
   "metadata": {},
   "outputs": [],
   "source": [
    "# Algoritma 2 untuk Tenis\n",
    "estimator = Id3Estimator(prune=True, gain_ratio=True)\n",
    "estimator = estimator.fit(X_train_tenis, y_train_tenis)\n",
    "y_pred_tenis = estimator.predict(X_test_tenis)\n",
    "print(\"Accuracy Score : \" + str(accuracy_score(y_test_tenis,y_pred_tenis)))\n",
    "print(\"F1 Score : \" +str(f1_score(y_test_tenis,y_pred_tenis)))"
   ]
  },
  {
   "cell_type": "code",
   "execution_count": null,
   "id": "8bd1f5d8",
   "metadata": {},
   "outputs": [],
   "source": [
    "# Algoritma 3 - KMeans\n",
    "from sklearn.cluster import KMeans\n",
    "\n",
    "# Breast section\n",
    "kmeans_breast = KMeans(n_clusters=2,max_iter=10000, random_state=13)\n",
    "kmeans_breast = kmeans_breast.fit(X_train_breast, y_train_breast)\n",
    "y_pred_breast = kmeans_breast.predict(X_test_breast)\n",
    "print(\"Accuracy Score Breast : \" + str(accuracy_score(y_test_breast,y_pred_breast)))\n",
    "print(\"F1 Score Breast : \" +str(f1_score(y_test_breast,y_pred_breast)))\n",
    "\n",
    "# Tenis section\n",
    "kmeans_tenis = KMeans(n_clusters=2,max_iter=10000, random_state=7)\n",
    "kmeans_tenis = kmeans_tenis.fit(X_train_tenis, y_train_tenis)\n",
    "y_pred_tenis = kmeans_tenis.predict(X_test_tenis)\n",
    "print(\"Accuracy Score Tenis : \" + str(accuracy_score(y_test_tenis,y_pred_tenis)))\n",
    "print(\"F1 Score Tenis : \" +str(f1_score(y_test_tenis,y_pred_tenis)))"
   ]
  },
  {
   "cell_type": "markdown",
   "id": "43593d03",
   "metadata": {},
   "source": []
  },
  {
   "cell_type": "code",
   "execution_count": 16,
   "id": "39cc27e5",
   "metadata": {},
   "outputs": [
    {
     "name": "stdout",
     "output_type": "stream",
     "text": [
      "[[42  3]\n",
      " [ 4 65]]\n",
      "Accuracy: 0.9385964912280702\n",
      "Precision: 0.9558823529411765\n",
      "Recall: 0.9420289855072463\n",
      "F1 Score: 0.9489051094890512\n"
     ]
    }
   ],
   "source": [
    "# Algoritma 4 - Logistic Regression\n",
    "from sklearn.linear_model import LogisticRegression\n",
    "\n",
    "logreg = LogisticRegression(max_iter = 5000, solver = 'liblinear')\n",
    "\n",
    "logreg.fit(X_train_breast, y_train_breast)\n",
    "\n",
    "y_pred_breast = logreg.predict(X_test_breast)\n",
    "cnf_matrix_breast = metrics.confusion_matrix(y_test_breast, y_pred_breast)\n",
    "\n",
    "print(cnf_matrix_breast)\n",
    "print(\"Accuracy:\",metrics.accuracy_score(y_test_breast, y_pred_breast))\n",
    "print(\"Precision:\",metrics.precision_score(y_test_breast, y_pred_breast))\n",
    "print(\"Recall:\",metrics.recall_score(y_test_breast, y_pred_breast))\n",
    "print(\"F1 Score:\",metrics.f1_score(y_test_breast, y_pred_breast))"
   ]
  },
  {
   "cell_type": "code",
   "execution_count": 22,
   "id": "6762b14d",
   "metadata": {},
   "outputs": [
    {
     "name": "stdout",
     "output_type": "stream",
     "text": [
      "[[0 2]\n",
      " [0 1]]\n",
      "Accuracy: 0.3333333333333333\n",
      "Precision: 0.3333333333333333\n",
      "Recall: 1.0\n",
      "F1 Score: 0.5\n"
     ]
    }
   ],
   "source": [
    "from sklearn.preprocessing import LabelEncoder\n",
    "\n",
    "train_tenis = train_tenis.copy()\n",
    "test_tenis = test_tenis.copy()\n",
    "\n",
    "le = LabelEncoder()\n",
    "for col in ['outlook', 'temp', 'humidity', 'wind', 'play']:\n",
    "    train_tenis[col + '_num'] = le.fit_transform(train_tenis[col])\n",
    "    test_tenis[col + '_num'] = le.fit_transform(test_tenis[col])\n",
    "    \n",
    "X_train_tenis = train_tenis[['outlook_num', 'temp_num', 'humidity_num', 'wind_num']]\n",
    "X_test_tenis = test_tenis[['outlook_num', 'temp_num', 'humidity_num', 'wind_num']]\n",
    "y_train_tenis = train_tenis['play_num']\n",
    "y_test_tenis = test_tenis['play_num']\n",
    "\n",
    "logreg.fit(X_train_tenis, y_train_tenis)\n",
    "\n",
    "y_pred_tenis = logreg.predict(X_test_tenis)\n",
    "cnf_matrix_tenis = metrics.confusion_matrix(y_test_tenis, y_pred_tenis)\n",
    "\n",
    "print(cnf_matrix_tenis)\n",
    "print(\"Accuracy:\",metrics.accuracy_score(y_test_tenis, y_pred_tenis))\n",
    "print(\"Precision:\",metrics.precision_score(y_test_tenis, y_pred_tenis))\n",
    "print(\"Recall:\",metrics.recall_score(y_test_tenis, y_pred_tenis))\n",
    "print(\"F1 Score:\",metrics.f1_score(y_test_tenis, y_pred_tenis))"
   ]
  },
  {
   "cell_type": "code",
   "execution_count": 45,
   "id": "5e2700b3",
   "metadata": {},
   "outputs": [
    {
     "name": "stdout",
     "output_type": "stream",
     "text": [
      "[[41  4]\n",
      " [ 6 63]]\n",
      "Accuracy: 0.9122807017543859\n",
      "Precision: 0.9402985074626866\n",
      "Recall: 0.9130434782608695\n",
      "F1 Score: 0.9264705882352942\n"
     ]
    }
   ],
   "source": [
    "# Algoritma 5 - Neural Network\n",
    "from sklearn.neural_network import MLPClassifier\n",
    "\n",
    "mlp = MLPClassifier(max_iter=200000, solver=\"lbfgs\")\n",
    "\n",
    "mlp.fit(X_train_breast, y_train_breast)\n",
    "\n",
    "y_pred_breast = mlp.predict(X_test_breast)\n",
    "cnf_matrix_breast = metrics.confusion_matrix(y_test_breast, y_pred_breast)\n",
    "\n",
    "print(cnf_matrix_breast)\n",
    "print(\"Accuracy:\",metrics.accuracy_score(y_test_breast, y_pred_breast))\n",
    "print(\"Precision:\",metrics.precision_score(y_test_breast, y_pred_breast))\n",
    "print(\"Recall:\",metrics.recall_score(y_test_breast, y_pred_breast))\n",
    "print(\"F1 Score:\",metrics.f1_score(y_test_breast, y_pred_breast))"
   ]
  },
  {
   "cell_type": "code",
   "execution_count": 46,
   "id": "95f11972",
   "metadata": {},
   "outputs": [
    {
     "name": "stdout",
     "output_type": "stream",
     "text": [
      "[[0 2]\n",
      " [0 1]]\n",
      "Accuracy: 0.3333333333333333\n",
      "Precision: 0.3333333333333333\n",
      "Recall: 1.0\n",
      "F1 Score: 0.5\n"
     ]
    }
   ],
   "source": [
    "train_tenis = train_tenis.copy()\n",
    "test_tenis = test_tenis.copy()\n",
    "\n",
    "le = LabelEncoder()\n",
    "for col in ['outlook', 'temp', 'humidity', 'wind', 'play']:\n",
    "    train_tenis[col + '_num'] = le.fit_transform(train_tenis[col])\n",
    "    test_tenis[col + '_num'] = le.fit_transform(test_tenis[col])\n",
    "    \n",
    "X_train_tenis = train_tenis[['outlook_num', 'temp_num', 'humidity_num', 'wind_num']]\n",
    "X_test_tenis = test_tenis[['outlook_num', 'temp_num', 'humidity_num', 'wind_num']]\n",
    "y_train_tenis = train_tenis['play_num']\n",
    "y_test_tenis = test_tenis['play_num']\n",
    "\n",
    "mlp.fit(X_train_tenis, y_train_tenis)\n",
    "\n",
    "y_pred_tenis = logreg.predict(X_test_tenis)\n",
    "cnf_matrix_tenis = metrics.confusion_matrix(y_test_tenis, y_pred_tenis)\n",
    "\n",
    "print(cnf_matrix_tenis)\n",
    "print(\"Accuracy:\",metrics.accuracy_score(y_test_tenis, y_pred_tenis))\n",
    "print(\"Precision:\",metrics.precision_score(y_test_tenis, y_pred_tenis))\n",
    "print(\"Recall:\",metrics.recall_score(y_test_tenis, y_pred_tenis))\n",
    "print(\"F1 Score:\",metrics.f1_score(y_test_tenis, y_pred_tenis))"
   ]
  },
  {
   "cell_type": "code",
   "execution_count": 52,
   "id": "70c2f6ba",
   "metadata": {},
   "outputs": [
    {
     "name": "stdout",
     "output_type": "stream",
     "text": [
      "[[42  3]\n",
      " [ 3 66]]\n",
      "Accuracy: 0.9473684210526315\n",
      "Precision: 0.9565217391304348\n",
      "Recall: 0.9565217391304348\n",
      "F1 Score: 0.9565217391304348\n"
     ]
    }
   ],
   "source": [
    "# Algoritma 6 - SVM\n",
    "from sklearn import svm\n",
    "\n",
    "clf = svm.SVC(kernel=\"linear\")\n",
    "\n",
    "clf.fit(X_train_breast, y_train_breast)\n",
    "\n",
    "y_pred_breast = clf.predict(X_test_breast)\n",
    "cnf_matrix_breast = metrics.confusion_matrix(y_test_breast, y_pred_breast)\n",
    "\n",
    "print(cnf_matrix_breast)\n",
    "print(\"Accuracy:\",metrics.accuracy_score(y_test_breast, y_pred_breast))\n",
    "print(\"Precision:\",metrics.precision_score(y_test_breast, y_pred_breast))\n",
    "print(\"Recall:\",metrics.recall_score(y_test_breast, y_pred_breast))\n",
    "print(\"F1 Score:\",metrics.f1_score(y_test_breast, y_pred_breast))"
   ]
  },
  {
   "cell_type": "code",
   "execution_count": 12,
   "id": "19ade795",
   "metadata": {},
   "outputs": [
    {
     "name": "stdout",
     "output_type": "stream",
     "text": [
      "[[0 2]\n",
      " [0 1]]\n",
      "Accuracy: 0.3333333333333333\n",
      "Precision: 0.3333333333333333\n",
      "Recall: 1.0\n",
      "F1 Score: 0.5\n"
     ]
    }
   ],
   "source": [
    "train_tenis = train_tenis.copy()\n",
    "test_tenis = test_tenis.copy()\n",
    "\n",
    "le = LabelEncoder()\n",
    "for col in ['outlook', 'temp', 'humidity', 'wind', 'play']:\n",
    "    train_tenis[col + '_num'] = le.fit_transform(train_tenis[col])\n",
    "    test_tenis[col + '_num'] = le.fit_transform(test_tenis[col])\n",
    "    \n",
    "X_train_tenis = train_tenis[['outlook_num', 'temp_num', 'humidity_num', 'wind_num']]\n",
    "X_test_tenis = test_tenis[['outlook_num', 'temp_num', 'humidity_num', 'wind_num']]\n",
    "y_train_tenis = train_tenis['play_num']\n",
    "y_test_tenis = test_tenis['play_num']\n",
    "\n",
    "clf.fit(X_train_tenis, y_train_tenis)\n",
    "\n",
    "y_pred_tenis = logreg.predict(X_test_tenis)\n",
    "cnf_matrix_tenis = metrics.confusion_matrix(y_test_tenis, y_pred_tenis)\n",
    "\n",
    "print(cnf_matrix_tenis)\n",
    "print(\"Accuracy:\",metrics.accuracy_score(y_test_tenis, y_pred_tenis))\n",
    "print(\"Precision:\",metrics.precision_score(y_test_tenis, y_pred_tenis))\n",
    "print(\"Recall:\",metrics.recall_score(y_test_tenis, y_pred_tenis))\n",
    "print(\"F1 Score:\",metrics.f1_score(y_test_tenis, y_pred_tenis))"
   ]
  }
 ],
 "metadata": {
  "kernelspec": {
   "display_name": "Python 3",
   "language": "python",
   "name": "python3"
  },
  "language_info": {
   "codemirror_mode": {
    "name": "ipython",
    "version": 3
   },
   "file_extension": ".py",
   "mimetype": "text/x-python",
   "name": "python",
   "nbconvert_exporter": "python",
   "pygments_lexer": "ipython3",
   "version": "3.8.6"
  }
 },
 "nbformat": 4,
 "nbformat_minor": 5
}
